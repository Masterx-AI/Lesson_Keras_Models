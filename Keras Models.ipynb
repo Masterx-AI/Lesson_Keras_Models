{
 "cells": [
  {
   "cell_type": "markdown",
   "id": "e0407c28",
   "metadata": {},
   "source": [
    "---"
   ]
  },
  {
   "cell_type": "markdown",
   "id": "03c111a8",
   "metadata": {},
   "source": [
    "# <center>★ AI / ML Lesson - Building Keras Models★"
   ]
  },
  {
   "cell_type": "markdown",
   "id": "068ad244",
   "metadata": {},
   "source": [
    "---"
   ]
  },
  {
   "cell_type": "markdown",
   "id": "e03b610e",
   "metadata": {},
   "source": [
    "<center><img src=\"keras_models.png\" style=\"width: 1000px;\"/>"
   ]
  },
  {
   "cell_type": "markdown",
   "id": "79042b5e",
   "metadata": {},
   "source": [
    "---"
   ]
  },
  {
   "cell_type": "markdown",
   "id": "cc2cf202",
   "metadata": {},
   "source": [
    "### Description:\n",
    "\n",
    "Keras is one of the most popular Python libraries for Deep Learning. It is a library that provides you various tools to deal with neural network models. These tools enable you to visualize and understand your model.\n",
    "Keras is a simple and user-friendly library that focuses on the idea of Models. Let us learn more about Keras Models.\n",
    "\n",
    "There are three ways to create Keras models:\n",
    "The Sequential model, which is very straightforward (a simple list of layers), but is limited to single-input, single-output stacks of layers (as the name gives away).\n",
    "The Functional API, which is an easy-to-use, fully-featured API that supports arbitrary model architectures. For most people and most use cases, this is what you should be using. This is the Keras \"industry strength\" model.\n",
    "Model subclassing, where you implement everything from scratch on your own. Use this if you have complex, out-of-the-box research use cases.\n",
    "\n",
    "### Acknowledgement: \n",
    "google, pyimagesearch, coursera, udemy, machinelearningmastery\n",
    "\n",
    "### Objective:\n",
    "- Build Deep Neural Network by using various types of Keras models."
   ]
  },
  {
   "cell_type": "markdown",
   "id": "f0086135",
   "metadata": {},
   "source": [
    "---"
   ]
  },
  {
   "cell_type": "markdown",
   "id": "6e0fb004",
   "metadata": {},
   "source": [
    "# <center> Keras Models:"
   ]
  },
  {
   "cell_type": "markdown",
   "id": "3f144ab3",
   "metadata": {},
   "source": [
    "**There are three ways to create Keras models:**\n",
    "\n",
    "1. The Sequential Model\n",
    "2. The Functional API\n",
    "3. Model Subclassing"
   ]
  },
  {
   "cell_type": "markdown",
   "id": "f3afebe8",
   "metadata": {},
   "source": [
    "---"
   ]
  },
  {
   "cell_type": "markdown",
   "id": "1b6b196f",
   "metadata": {},
   "source": [
    "# <center>1. Sequential Model"
   ]
  },
  {
   "cell_type": "markdown",
   "id": "fac2838c",
   "metadata": {},
   "source": [
    "It allows us to create models layer by layer in sequential order. But it does not allow us to create models that have multiple inputs or outputs. It is best for simple stack of layers which have 1 input tensor and 1 output tensor.\n",
    "\n",
    "This model is not suited when any of the layer in the stack has multiple inputs or outputs. Even if we want non-linear topology, it is not suited.\n",
    "\n",
    "Here is an example for Sequential model:"
   ]
  },
  {
   "cell_type": "code",
   "execution_count": 56,
   "id": "2a87ec1b",
   "metadata": {},
   "outputs": [
    {
     "name": "stdout",
     "output_type": "stream",
     "text": [
      "Model: \"sequential_24\"\n",
      "_________________________________________________________________\n",
      " Layer (type)                Output Shape              Param #   \n",
      "=================================================================\n",
      " dense_165 (Dense)           (None, 64)                704       \n",
      "                                                                 \n",
      " dense_166 (Dense)           (None, 32)                2080      \n",
      "                                                                 \n",
      "=================================================================\n",
      "Total params: 2,784\n",
      "Trainable params: 2,784\n",
      "Non-trainable params: 0\n",
      "_________________________________________________________________\n"
     ]
    },
    {
     "data": {
      "image/png": "[encoded data removed]",
      "text/plain": [
       "<IPython.core.display.Image object>"
      ]
     },
     "execution_count": 56,
     "metadata": {},
     "output_type": "execute_result"
    }
   ],
   "source": [
    "#Importing the basic librarires\n",
    "import tensorflow as tf\n",
    "from tensorflow.keras.models import Sequential\n",
    "from tensorflow.keras.layers import Dense\n",
    "\n",
    "\"\"\"Constructing a simple model architecture using Sequential Model\"\"\"\n",
    "\n",
    "## Method 1\n",
    "model=tf.keras.models.Sequential([\n",
    "    Dense(64, input_shape=(10,), activation='relu'),\n",
    "    Dense(32, activation='softmax')\n",
    "])\n",
    "\n",
    "## Method 2\n",
    "model=tf.keras.models.Sequential()\n",
    "model.add(Dense(64, input_shape=(10,)))\n",
    "model.add(Dense(32))\n",
    "\n",
    "# Viewing the model summary\n",
    "model.summary()\n",
    "tf.keras.utils.plot_model(model)"
   ]
  },
  {
   "cell_type": "markdown",
   "id": "7ec00bfb",
   "metadata": {},
   "source": [
    "---"
   ]
  },
  {
   "cell_type": "markdown",
   "id": "6d78b423",
   "metadata": {},
   "source": [
    "# <center>2. The Functional API"
   ]
  },
  {
   "cell_type": "markdown",
   "id": "70773709",
   "metadata": {},
   "source": [
    "It provides more flexibility to define a model and add layers in keras. Functional API allows us to create models that have multiple input or output. It also allows us to share these layers. In other words. we can make graphs of layers using Keras functional API.\n",
    "\n",
    "As functional API is a data structure, it is easy to save it as a single file that helps in recreating the exact model without having the original code. Also its easy to model the graph here and access its nodes as well.\n",
    "\n",
    "Below is the Example for Functional API:"
   ]
  },
  {
   "cell_type": "code",
   "execution_count": 57,
   "id": "def17466",
   "metadata": {},
   "outputs": [
    {
     "name": "stdout",
     "output_type": "stream",
     "text": [
      "Model: \"model_30\"\n",
      "_________________________________________________________________\n",
      " Layer (type)                Output Shape              Param #   \n",
      "=================================================================\n",
      " input_65 (InputLayer)       [(None, 32)]              0         \n",
      "                                                                 \n",
      " dense_167 (Dense)           (None, 32)                1056      \n",
      "                                                                 \n",
      " dense_168 (Dense)           (None, 1)                 33        \n",
      "                                                                 \n",
      "=================================================================\n",
      "Total params: 1,089\n",
      "Trainable params: 1,089\n",
      "Non-trainable params: 0\n",
      "_________________________________________________________________\n"
     ]
    },
    {
     "data": {
      "image/png": "[encoded data removed]",
      "text/plain": [
       "<IPython.core.display.Image object>"
      ]
     },
     "execution_count": 57,
     "metadata": {},
     "output_type": "execute_result"
    }
   ],
   "source": [
    "#Importing the basic librarires\n",
    "import tensorflow as tf\n",
    "from tensorflow.keras.models import Model\n",
    "from tensorflow.keras.layers import Input, Dense, Concatenate\n",
    "\n",
    "\"\"\"Constructing a simple model architecture using Functional API\"\"\"\n",
    "\n",
    "input_1=Input(shape=(32,))\n",
    "hidden_1=Dense(32, activation='relu')(input_1)\n",
    "output_1 = Dense(1, activation='linear')(hidden_1)\n",
    "model=Model(inputs=[input_1],outputs=[output_1])\n",
    "\n",
    "# Viewing the model summary\n",
    "model.summary()\n",
    "tf.keras.utils.plot_model(model)"
   ]
  },
  {
   "cell_type": "code",
   "execution_count": 59,
   "id": "7d570201",
   "metadata": {},
   "outputs": [
    {
     "name": "stdout",
     "output_type": "stream",
     "text": [
      "Model: \"model_32\"\n",
      "__________________________________________________________________________________________________\n",
      " Layer (type)                   Output Shape         Param #     Connected to                     \n",
      "==================================================================================================\n",
      " input_69 (InputLayer)          [(None, 100)]        0           []                               \n",
      "                                                                                                  \n",
      " input_70 (InputLayer)          [(None, 200)]        0           []                               \n",
      "                                                                                                  \n",
      " input_71 (InputLayer)          [(None, 300)]        0           []                               \n",
      "                                                                                                  \n",
      " dense_177 (Dense)              (None, 256)          25856       ['input_69[0][0]']               \n",
      "                                                                                                  \n",
      " dense_178 (Dense)              (None, 128)          25728       ['input_70[0][0]']               \n",
      "                                                                                                  \n",
      " dense_179 (Dense)              (None, 64)           19264       ['input_71[0][0]']               \n",
      "                                                                                                  \n",
      " concatenate_15 (Concatenate)   (None, 448)          0           ['dense_177[0][0]',              \n",
      "                                                                  'dense_178[0][0]',              \n",
      "                                                                  'dense_179[0][0]']              \n",
      "                                                                                                  \n",
      " dense_180 (Dense)              (None, 32)           14368       ['concatenate_15[0][0]']         \n",
      "                                                                                                  \n",
      " dense_181 (Dense)              (None, 8)            264         ['dense_180[0][0]']              \n",
      "                                                                                                  \n",
      " dense_182 (Dense)              (None, 8)            264         ['dense_180[0][0]']              \n",
      "                                                                                                  \n",
      " dense_183 (Dense)              (None, 2)            18          ['dense_181[0][0]']              \n",
      "                                                                                                  \n",
      " dense_184 (Dense)              (None, 1)            9           ['dense_182[0][0]']              \n",
      "                                                                                                  \n",
      "==================================================================================================\n",
      "Total params: 85,771\n",
      "Trainable params: 85,771\n",
      "Non-trainable params: 0\n",
      "__________________________________________________________________________________________________\n"
     ]
    },
    {
     "data": {
      "image/png": "[encoded data removed]",
      "text/plain": [
       "<IPython.core.display.Image object>"
      ]
     },
     "execution_count": 59,
     "metadata": {},
     "output_type": "execute_result"
    }
   ],
   "source": [
    "\"\"\"Constructing a complex model architecture using Functional API with multiple inputs & outputs\"\"\"\n",
    "\n",
    "input_1a=Input(shape=(100,))\n",
    "input_1b=Input(shape=(200,))\n",
    "input_1c=Input(shape=(300,))\n",
    "\n",
    "hidden_1a=Dense(256, activation='relu')(input_1a)\n",
    "hidden_1b=Dense(128, activation='relu')(input_1b)\n",
    "hidden_1c=Dense(64, activation='relu')(input_1c)\n",
    "\n",
    "merged_1 = Concatenate(axis=1)([hidden_1a, hidden_1b, hidden_1c])\n",
    "\n",
    "hidden_2=Dense(32, activation='relu')(merged_1)\n",
    "hidden_3a=Dense(8, activation='relu')(hidden_2)\n",
    "hidden_3b=Dense(8, activation='relu')(hidden_2)\n",
    "output_1a = Dense(2, activation='sigmoid')(hidden_3a)\n",
    "output_1b = Dense(1, activation='linear')(hidden_3b)\n",
    "\n",
    "#To create model with multiple inputs and outputs:\n",
    "model=Model(inputs=[input_1a, input_1b, input_1c],outputs=[output_1a, output_1b])\n",
    "\n",
    "model.summary()\n",
    "tf.keras.utils.plot_model(model)"
   ]
  },
  {
   "cell_type": "markdown",
   "id": "b2f5cc75",
   "metadata": {},
   "source": [
    "---"
   ]
  },
  {
   "cell_type": "markdown",
   "id": "9e949afb",
   "metadata": {},
   "source": [
    "# <center>3. Model Subclassing"
   ]
  },
  {
   "cell_type": "markdown",
   "id": "e18ec655",
   "metadata": {},
   "source": [
    "Sequential model does not allow you much flexibility to create your models. Functional API also only has a little of customization available for you. But you may create your own fully-customizable models in Keras. \n",
    "\n",
    "This is done by subclassing the Model class and implementing a call method."
   ]
  },
  {
   "cell_type": "code",
   "execution_count": 86,
   "id": "37d9d015",
   "metadata": {},
   "outputs": [
    {
     "name": "stdout",
     "output_type": "stream",
     "text": [
      "Model: \"model_35\"\n",
      "_________________________________________________________________\n",
      " Layer (type)                Output Shape              Param #   \n",
      "=================================================================\n",
      " input_84 (InputLayer)       [(None, 50)]              0         \n",
      "                                                                 \n",
      " dense_201 (Dense)           (None, 32)                1632      \n",
      "                                                                 \n",
      " dropout_7 (Dropout)         (None, 32)                0         \n",
      "                                                                 \n",
      " batch_normalization_7 (Batc  (None, 32)               128       \n",
      " hNormalization)                                                 \n",
      "                                                                 \n",
      " dense_202 (Dense)           (None, 10)                330       \n",
      "                                                                 \n",
      "=================================================================\n",
      "Total params: 2,090\n",
      "Trainable params: 2,026\n",
      "Non-trainable params: 64\n",
      "_________________________________________________________________\n"
     ]
    },
    {
     "data": {
      "image/png": "[encoded data removed]",
      "text/plain": [
       "<IPython.core.display.Image object>"
      ]
     },
     "execution_count": 86,
     "metadata": {},
     "output_type": "execute_result"
    }
   ],
   "source": [
    "import tensorflow as tf\n",
    "from keras.layers import Dense,Dropout,BatchNormalization\n",
    "\n",
    "class Subclass(tf.keras.Model):\n",
    "\n",
    "    def __init__(self, use_bn=True, use_dp=True, num_classes=10):\n",
    "        super(Subclass, self).__init__(name='mlp')\n",
    "        self.use_bn = use_bn\n",
    "        self.use_dp = use_dp\n",
    "        self.num_classes = num_classes\n",
    "\n",
    "        self.dense_1 = Dense(32, activation='relu')\n",
    "        self.dense_2 = Dense(num_classes, activation='softmax')\n",
    "        if self.use_dp:\n",
    "            self.dp = Dropout(0.5)\n",
    "        if self.use_bn:\n",
    "            self.bn = BatchNormalization(axis=-1)\n",
    "\n",
    "    def call(self, inputs):\n",
    "        x = self.dense_1(inputs)\n",
    "        if self.use_dp:\n",
    "            x = self.dp(x)\n",
    "        if self.use_bn:\n",
    "            x = self.bn(x)\n",
    "        x = self.dense_2(x)\n",
    "        return x\n",
    "    \n",
    "    def model(self):\n",
    "        x = Input(shape=(50,))\n",
    "        model = Model(inputs=[x], outputs=[self.call(x)])\n",
    "        return model\n",
    "\n",
    "MyModel = Subclass()\n",
    "MyModel.model().summary()\n",
    "tf.keras.utils.plot_model(MyModel.model())"
   ]
  },
  {
   "cell_type": "markdown",
   "id": "44f5440a",
   "metadata": {},
   "source": [
    "---"
   ]
  },
  {
   "cell_type": "markdown",
   "id": "b0339dab",
   "metadata": {},
   "source": [
    "# <center>4. Outcomes & Project Conclusion"
   ]
  },
  {
   "cell_type": "markdown",
   "id": "3c59e094",
   "metadata": {},
   "source": [
    "### Here are some of the key outcomes of the project:\n",
    "- The custom dataset had 1k samples out which 800 were used for training & 200 were used for testing purpose.\n",
    "- Visualising the samples & it's distribution, helped us to get some insights into the dataset.\n",
    "- The Vanilla Neural Network Architecture with default learning rate for Adam Optimizer did not perform so well, given the low complexity of data, it took too long to converge.\n",
    "- Hence finding the optimal learning rate by tuning it, helped to us to build better model with optimal training time.\n",
    "- Further improvisations can include the usage of cmplex layers like CNN, adding dropouts & batch-normalization layers, or even utilizing the Transfer Learning Methodology to train Prominent Models like VGG, ResNet, AlexNet, GoogleNet, Etc."
   ]
  },
  {
   "cell_type": "code",
   "execution_count": 1,
   "id": "94e2f3b3",
   "metadata": {},
   "outputs": [],
   "source": [
    "#<<<--------------------------------------THE END---------------------------------------->>>"
   ]
  }
 ],
 "metadata": {
  "kernelspec": {
   "display_name": "Python 3 (ipykernel)",
   "language": "python",
   "name": "python3"
  },
  "language_info": {
   "codemirror_mode": {
    "name": "ipython",
    "version": 3
   },
   "file_extension": ".py",
   "mimetype": "text/x-python",
   "name": "python",
   "nbconvert_exporter": "python",
   "pygments_lexer": "ipython3",
   "version": "3.9.7"
  }
 },
 "nbformat": 4,
 "nbformat_minor": 5
}
